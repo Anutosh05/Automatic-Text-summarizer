{
 "cells": [
  {
   "cell_type": "markdown",
   "id": "4bb56079",
   "metadata": {},
   "source": [
    "# Query Based Summarisation using Vector Space"
   ]
  },
  {
   "cell_type": "markdown",
   "id": "021f2106",
   "metadata": {},
   "source": [
    "Use of Vector space\n",
    "The primary shortcoming associated with text summarization is redundancy, where more than one sentence representing a similar type of information are incorporated in summary\n",
    "So the vector space uses the vectors of either Bag-of-words of tf-idf and use them to find cosine similarities to do the summarization "
   ]
  },
  {
   "cell_type": "markdown",
   "id": "dab19327",
   "metadata": {},
   "source": [
    "Limitations:\n",
    "1. Long documents are poorly represented because they have poor similarity values (a small scalar product and a large dimensionality)\n",
    "2. Search keywords must precisely match document terms; word substrings might result in a \"false positive match\"\n",
    "3. Semantic sensitivity; documents with similar context but different term vocabulary won't be associated, resulting in a \"false negative match\".\n",
    "4. The order in which the terms appear in the document is lost in the vector space representation.\n",
    "Theoretically assumes terms are statistically independent.\n",
    "5. Weighting is intuitive but not very formal.\n"
   ]
  },
  {
   "attachments": {
    "image.png": {
     "image/png": "[encoded data removed]"
    }
   },
   "cell_type": "markdown",
   "id": "c7e264d3",
   "metadata": {},
   "source": [
    "![image.png](attachment:image.png)"
   ]
  },
  {
   "cell_type": "code",
   "execution_count": 47,
   "id": "9baa9a2f",
   "metadata": {},
   "outputs": [],
   "source": [
    "import numpy as np\n",
    "import pandas as pd\n",
    "import nltk\n",
    "import re\n",
    "from gensim.models import Word2Vec\n",
    "from scipy import spatial\n",
    "import networkx as nx\n",
    "from nltk.tokenize import sent_tokenize\n",
    "import spacy"
   ]
  },
  {
   "cell_type": "markdown",
   "id": "62bb028a",
   "metadata": {},
   "source": [
    "## Reading The Text File\n",
    "we wil start by reading the test file by using python file handeling and copy its content to a python variable so as to work on it"
   ]
  },
  {
   "cell_type": "code",
   "execution_count": 48,
   "id": "87d99a58",
   "metadata": {},
   "outputs": [],
   "source": [
    "f = open(\"welcome.txt\", \"r\")\n",
    "f.seek(0)\n",
    "text=f.read()"
   ]
  },
  {
   "cell_type": "markdown",
   "id": "a2b368ea",
   "metadata": {},
   "source": [
    "## Converting text into sentences\n",
    "We need to convert the whole text into sentences so that we can find out similarity between them and then crreate an extractive summary by using those sentences\n",
    "We will use NLTK for this task as the text to sentence conversion in nltk is fast and reliable"
   ]
  },
  {
   "cell_type": "code",
   "execution_count": 49,
   "id": "845c1883",
   "metadata": {},
   "outputs": [],
   "source": [
    "sentences1 = sent_tokenize(text)"
   ]
  },
  {
   "cell_type": "code",
   "execution_count": 50,
   "id": "6eecaad0",
   "metadata": {},
   "outputs": [
    {
     "data": {
      "text/plain": [
       "[\"Natural Language Processing (NLP) is an important tool for understanding and\\nprocessing the immense volume of unstructured data in today's world.\",\n",
       " 'Recently,\\ndeep learning has been widely adopted for many NLP tasks because of the\\nremarkable performance that deep learning algorithms have shown in a plethora\\nof challenging tasks, such as, image classification, speech recognition, and realistic\\ntext generation.',\n",
       " 'TensorFlow, in turn, is one of the most intuitive and efficient deep\\nlearning frameworks currently in existence.',\n",
       " 'This book will enable aspiring deep\\nlearning developers to handle massive amounts of data using NLP and TensorFlow.',\n",
       " 'In this chapter, we will provide an introduction to NLP and to the rest of the book.',\n",
       " 'We will answer the question, \"What is Natural Language Processing?\"',\n",
       " \"Also, we'll\\nlook at some of its most important uses.\",\n",
       " 'We will also consider the traditional\\napproaches and the more recent deep learning-based approaches to NLP, including\\na Fully-Connected Neural Network (FCNN).',\n",
       " 'Finally, we will conclude with an\\noverview of the rest of the book and the technical tools we will be using.',\n",
       " 'According to IBM, 2.5 exabytes (1 exabyte = 1,000,000,000 gigabytes) of data were\\ngenerated every day in 2017, and this is growing as this book is being written.',\n",
       " 'To\\nput that into perspective, if all the human beings in the world were to process that\\ndata, it would be roughly 300 MB for each of us every day to process.',\n",
       " 'Of all this data,\\na large fraction is unstructured text and speech as there are millions of emails and\\nsocial media content created and phone calls made every day.',\n",
       " 'Introduction to Natural Language Processing\\nThese statistics provide a good basis for us to define what NLP is.',\n",
       " 'Simply put, the\\ngoal of NLP is to make machines understand our spoken and written languages.',\n",
       " 'Moreover, NLP is ubiquitous and is already a large part of human life.',\n",
       " 'Virtual\\nAssistants (VAs), such as Google Assistant, Cortana, and Apple Siri, are largely NLP\\nsystems.',\n",
       " 'Numerous NLP tasks take place when one asks a VA, \"Can you show me\\na good Italian restaurant nearby?\".',\n",
       " 'First, the VA needs to convert the utterance to\\ntext (that is, speech-to-text).',\n",
       " 'Next, it must understand the semantics of the request\\n(for example, the user is looking for a good restaurant with an Italian cuisine) and\\nformulate a structured request (for example, cuisine = Italian, rating = 3-5, distance\\n< 10 km).',\n",
       " 'Then, the VA must search for restaurants filtering by the location and\\ncuisine, and then, sort the restaurants by the ratings received.',\n",
       " 'To calculate an overall\\nrating for a restaurant, a good NLP system may look at both the rating and text\\ndescription provided by each user.',\n",
       " 'Finally, once the user is at the restaurant, the VA\\nmight assist the user by translating various menu items from Italian to English.',\n",
       " 'This\\nexample shows that NLP has become an integral part of human life.',\n",
       " 'It should be understood that NLP is an extremely challenging field of research as\\nwords and semantics have a highly complex nonlinear relationship, and it is even\\nmore difficult to capture this information as a robust numerical representation.',\n",
       " 'To\\nmake matters worse, each language has its own grammar, syntax, and vocabulary.',\n",
       " 'Therefore, processing textual data involves various complex tasks such as text\\nparsing (for example, tokenization and stemming), morphological analysis, word\\nsense disambiguation, and understanding the underlying grammatical structure of\\na language.',\n",
       " 'For example, in these two sentences, I went to the bank and I walked along\\nthe river bank, the word bank has two entirely different meanings.',\n",
       " 'To distinguish\\nor (disambiguate) the word bank, we need to understand the context in which the\\nword is being used.',\n",
       " 'Machine learning has become a key enabler for NLP, helping to\\naccomplish the aforementioned tasks through machines.']"
      ]
     },
     "execution_count": 50,
     "metadata": {},
     "output_type": "execute_result"
    }
   ],
   "source": [
    "sentences1"
   ]
  },
  {
   "cell_type": "markdown",
   "id": "5c312a61",
   "metadata": {},
   "source": [
    "#### Loading Spacy "
   ]
  },
  {
   "cell_type": "code",
   "execution_count": 51,
   "id": "ef852f98",
   "metadata": {},
   "outputs": [],
   "source": [
    "nlp=spacy.load('en_core_web_sm')\n",
    "from spacy.lang.en.stop_words import STOP_WORDS"
   ]
  },
  {
   "cell_type": "markdown",
   "id": "8bd8ae9e",
   "metadata": {},
   "source": [
    "## Creating a function for text preprocessing and cleaning\n",
    "Preprocessing text data is one of the most difficult tasks in Natural Language processing because there are no specific statistical guidelines available. It is also extremely important at the same time.\n",
    "\n",
    "For this Model we will be removing stop words, special symbols and converting to lower case and doing some basic processing of urls using the re library of python for regular expressin"
   ]
  },
  {
   "cell_type": "code",
   "execution_count": 25,
   "id": "3cbd7349",
   "metadata": {},
   "outputs": [],
   "source": [
    "\n",
    "def clean(text):\n",
    "    text=text.strip().lower()\n",
    "    # Remove the characters - <>()|&©ø\"',;?~*!\n",
    "    text = re.sub(r\"[<>()|&©ø\\[\\]\\'\\\",;?~*!]\", \" \", str(text)).lower()\n",
    "    \n",
    "    # Replace any url to only the domain name\n",
    "    try:\n",
    "        url = re.search(r\"((https*:\\/*)([^\\/\\s]+))(.[^\\s]+)\", str(text))\n",
    "        repl_url = url.group(3)\n",
    "        text = re.sub(r\"((https*:\\/*)([^\\/\\s]+))(.[^\\s]+)\", repl_url, str(text))\n",
    "    except:\n",
    "        pass\n",
    "    doc=nlp(text)\n",
    "    clean_sentences =[token.text for token in doc if not token.is_punct and not token.is_stop]\n",
    "    return clean_sentences"
   ]
  },
  {
   "cell_type": "markdown",
   "id": "0f8f87f9",
   "metadata": {},
   "source": [
    "Cleaning all sentences iteratively"
   ]
  },
  {
   "cell_type": "code",
   "execution_count": 26,
   "id": "dca5b35a",
   "metadata": {},
   "outputs": [],
   "source": [
    "sentences=[]\n",
    "for i in range(len(sentences1)):\n",
    "    sentences.append(clean(sentences1[i]))"
   ]
  },
  {
   "cell_type": "markdown",
   "id": "d5e3ad78",
   "metadata": {},
   "source": [
    "### Creating a dictionary to keep the order of sentences\n",
    "We will use enumrate and dictionary to create a integer key for each sentence which will later help to keep track of thr order of sentences"
   ]
  },
  {
   "cell_type": "code",
   "execution_count": 27,
   "id": "e96ddb43",
   "metadata": {},
   "outputs": [],
   "source": [
    "dict_sent={}"
   ]
  },
  {
   "cell_type": "code",
   "execution_count": 28,
   "id": "7c3cadc2",
   "metadata": {},
   "outputs": [],
   "source": [
    "for i,j in enumerate(sentences1):\n",
    "    dict_sent[i]=j"
   ]
  },
  {
   "cell_type": "code",
   "execution_count": 29,
   "id": "1fed257f",
   "metadata": {},
   "outputs": [
    {
     "data": {
      "text/plain": [
       "{0: \"Natural Language Processing (NLP) is an important tool for understanding and\\nprocessing the immense volume of unstructured data in today's world.\",\n",
       " 1: 'Recently,\\ndeep learning has been widely adopted for many NLP tasks because of the\\nremarkable performance that deep learning algorithms have shown in a plethora\\nof challenging tasks, such as, image classification, speech recognition, and realistic\\ntext generation.',\n",
       " 2: 'TensorFlow, in turn, is one of the most intuitive and efficient deep\\nlearning frameworks currently in existence.',\n",
       " 3: 'This book will enable aspiring deep\\nlearning developers to handle massive amounts of data using NLP and TensorFlow.',\n",
       " 4: 'In this chapter, we will provide an introduction to NLP and to the rest of the book.',\n",
       " 5: 'We will answer the question, \"What is Natural Language Processing?\"',\n",
       " 6: \"Also, we'll\\nlook at some of its most important uses.\",\n",
       " 7: 'We will also consider the traditional\\napproaches and the more recent deep learning-based approaches to NLP, including\\na Fully-Connected Neural Network (FCNN).',\n",
       " 8: 'Finally, we will conclude with an\\noverview of the rest of the book and the technical tools we will be using.',\n",
       " 9: 'According to IBM, 2.5 exabytes (1 exabyte = 1,000,000,000 gigabytes) of data were\\ngenerated every day in 2017, and this is growing as this book is being written.',\n",
       " 10: 'To\\nput that into perspective, if all the human beings in the world were to process that\\ndata, it would be roughly 300 MB for each of us every day to process.',\n",
       " 11: 'Of all this data,\\na large fraction is unstructured text and speech as there are millions of emails and\\nsocial media content created and phone calls made every day.',\n",
       " 12: 'Introduction to Natural Language Processing\\nThese statistics provide a good basis for us to define what NLP is.',\n",
       " 13: 'Simply put, the\\ngoal of NLP is to make machines understand our spoken and written languages.',\n",
       " 14: 'Moreover, NLP is ubiquitous and is already a large part of human life.',\n",
       " 15: 'Virtual\\nAssistants (VAs), such as Google Assistant, Cortana, and Apple Siri, are largely NLP\\nsystems.',\n",
       " 16: 'Numerous NLP tasks take place when one asks a VA, \"Can you show me\\na good Italian restaurant nearby?\".',\n",
       " 17: 'First, the VA needs to convert the utterance to\\ntext (that is, speech-to-text).',\n",
       " 18: 'Next, it must understand the semantics of the request\\n(for example, the user is looking for a good restaurant with an Italian cuisine) and\\nformulate a structured request (for example, cuisine = Italian, rating = 3-5, distance\\n< 10 km).',\n",
       " 19: 'Then, the VA must search for restaurants filtering by the location and\\ncuisine, and then, sort the restaurants by the ratings received.',\n",
       " 20: 'To calculate an overall\\nrating for a restaurant, a good NLP system may look at both the rating and text\\ndescription provided by each user.',\n",
       " 21: 'Finally, once the user is at the restaurant, the VA\\nmight assist the user by translating various menu items from Italian to English.',\n",
       " 22: 'This\\nexample shows that NLP has become an integral part of human life.',\n",
       " 23: 'It should be understood that NLP is an extremely challenging field of research as\\nwords and semantics have a highly complex nonlinear relationship, and it is even\\nmore difficult to capture this information as a robust numerical representation.',\n",
       " 24: 'To\\nmake matters worse, each language has its own grammar, syntax, and vocabulary.',\n",
       " 25: 'Therefore, processing textual data involves various complex tasks such as text\\nparsing (for example, tokenization and stemming), morphological analysis, word\\nsense disambiguation, and understanding the underlying grammatical structure of\\na language.',\n",
       " 26: 'For example, in these two sentences, I went to the bank and I walked along\\nthe river bank, the word bank has two entirely different meanings.',\n",
       " 27: 'To distinguish\\nor (disambiguate) the word bank, we need to understand the context in which the\\nword is being used.',\n",
       " 28: 'Machine learning has become a key enabler for NLP, helping to\\naccomplish the aforementioned tasks through machines.'}"
      ]
     },
     "execution_count": 29,
     "metadata": {},
     "output_type": "execute_result"
    }
   ],
   "source": [
    "dict_sent"
   ]
  },
  {
   "cell_type": "markdown",
   "id": "3407128e",
   "metadata": {},
   "source": [
    "## Word to Vec\n",
    "we need to convert the sentences to vectors, there may be different choices to create vectors from sentences such as bag_of_words, Tf_idf and glove library but here we will be using gensim library provided by google.\n",
    "\n",
    "Word embedding by Word2Vec involves analysis of the learned vectors as well as exploration of vector math on representation of words. Following are the two different learning methods which can be used as the part of Word2Vec method −\n",
    "\n",
    "1. CBoW(Continuous Bag of Words) Model\n",
    "\n",
    "2. Continuous Skip-Gram Model\n",
    "\n",
    "With Gensim, it is extremely straightforward to create Word2Vec model. The word list is passed to the Word2Vec class of the gensim.models package. We need to specify the value for the min_count parameter. \n"
   ]
  },
  {
   "cell_type": "code",
   "execution_count": 30,
   "id": "1ea810ff",
   "metadata": {},
   "outputs": [],
   "source": [
    "w2v=Word2Vec(sentences,min_count=1)"
   ]
  },
  {
   "cell_type": "markdown",
   "id": "cdc1af52",
   "metadata": {},
   "source": [
    "## Giving query for summarisation\n",
    "we need to provide some query to create a summary according to that, we will be using cosine similarity to find relation between query and different sentences."
   ]
  },
  {
   "cell_type": "code",
   "execution_count": 31,
   "id": "5c72e8d1",
   "metadata": {},
   "outputs": [],
   "source": [
    "text= \"Natural Language processing\"\n",
    "text=clean(text)"
   ]
  },
  {
   "cell_type": "markdown",
   "id": "6170baf5",
   "metadata": {},
   "source": [
    "Creating vector for the query to find the cosine similarity"
   ]
  },
  {
   "cell_type": "code",
   "execution_count": 55,
   "id": "5e2c995d",
   "metadata": {},
   "outputs": [],
   "source": [
    "w1v=Word2Vec(text,min_count=1)"
   ]
  },
  {
   "cell_type": "code",
   "execution_count": 74,
   "id": "67ca8bd7",
   "metadata": {},
   "outputs": [],
   "source": [
    "sentence_embeddings=[[w2v.wv[word][0] for word in words] for words in sentences]\n"
   ]
  },
  {
   "cell_type": "code",
   "execution_count": 75,
   "id": "1e343371",
   "metadata": {},
   "outputs": [],
   "source": [
    "sentence_embeddings1=[[w1v.wv[word][0] for word in words] for words in text]\n"
   ]
  },
  {
   "cell_type": "code",
   "execution_count": 76,
   "id": "b2f53343",
   "metadata": {},
   "outputs": [],
   "source": [
    "max_len=max([len(tokens) for tokens in sentences])"
   ]
  },
  {
   "cell_type": "markdown",
   "id": "cd620ba3",
   "metadata": {},
   "source": [
    "Padding the vectors to make them the same size"
   ]
  },
  {
   "cell_type": "code",
   "execution_count": 77,
   "id": "9d79350d",
   "metadata": {},
   "outputs": [],
   "source": [
    "sentence_embeddings=[np.pad(embedding,(0,max_len-len(embedding)),'constant') for embedding in sentence_embeddings]"
   ]
  },
  {
   "cell_type": "code",
   "execution_count": 78,
   "id": "9035f507",
   "metadata": {},
   "outputs": [],
   "source": [
    "sentence_embeddings1=[np.pad(embedding,(0,max_len-len(embedding)),'constant') for embedding in sentence_embeddings1]"
   ]
  },
  {
   "cell_type": "code",
   "execution_count": 79,
   "id": "187d0da1",
   "metadata": {},
   "outputs": [],
   "source": [
    "similarity_matrix = np.zeros([len(sentences), len(text)])"
   ]
  },
  {
   "cell_type": "code",
   "execution_count": 80,
   "id": "dbbb10fa",
   "metadata": {},
   "outputs": [],
   "source": [
    "dict_sent1={}"
   ]
  },
  {
   "cell_type": "markdown",
   "id": "a8f1f2f0",
   "metadata": {},
   "source": [
    "## Finding Cosine Similarity"
   ]
  },
  {
   "cell_type": "code",
   "execution_count": 81,
   "id": "0274df0c",
   "metadata": {},
   "outputs": [],
   "source": [
    "for i,row_embedding in enumerate(sentence_embeddings):\n",
    "    for j,column_embedding in enumerate(sentence_embeddings1):\n",
    "        similarity_matrix[i][j]=1-spatial.distance.cosine(np.array(row_embedding).flatten(),np.array((column_embedding).flatten()))\n",
    "    dict_sent1[sum(similarity_matrix[i])]=i"
   ]
  },
  {
   "cell_type": "code",
   "execution_count": 82,
   "id": "d2f810a4",
   "metadata": {},
   "outputs": [],
   "source": [
    "def sum_sort(x):\n",
    "    return sum(x)"
   ]
  },
  {
   "cell_type": "code",
   "execution_count": 83,
   "id": "7895f0ca",
   "metadata": {},
   "outputs": [],
   "source": [
    "top_keys=sorted(similarity_matrix, key=lambda item: (-sum(item)))[:5]"
   ]
  },
  {
   "cell_type": "code",
   "execution_count": 84,
   "id": "c86ae6be",
   "metadata": {},
   "outputs": [
    {
     "name": "stdout",
     "output_type": "stream",
     "text": [
      "{211.92782945930958: 0, -170.8697426021099: 1, 65.35187520831823: 2, -225.78006963431835: 3, -757.003908097744: 4, 7.538168091792613: 5, 63.46328965574503: 6, 65.23285585641861: 7, 100.7993291541934: 8, -150.73883859813213: 9, 348.3876838982105: 10, 286.4971527457237: 11, -4.470851549413055: 12, 511.1533072590828: 13, 83.03007890284061: 14, -322.8577478826046: 15, -303.55905851721764: 16, 49.06436725705862: 17, 30.10973641462624: 18, 46.89130864664912: 19, -62.19360249489546: 20, 66.69086050242186: 21, 595.6991585493088: 22, 52.46134228631854: 23, 485.49797877669334: 24, 26.9269644562155: 25, -319.0894936323166: 26, -123.8702063858509: 27, 361.8152315914631: 28}\n"
     ]
    }
   ],
   "source": [
    "print(dict_sent1)"
   ]
  },
  {
   "cell_type": "code",
   "execution_count": 85,
   "id": "953b374b",
   "metadata": {},
   "outputs": [],
   "source": [
    "for i in range(len(top_keys)):\n",
    "    top_keys[i]=sum(top_keys[i])"
   ]
  },
  {
   "cell_type": "markdown",
   "id": "eadc0095",
   "metadata": {},
   "source": [
    "Finally printing the sentences most accurate and near to the query"
   ]
  },
  {
   "cell_type": "code",
   "execution_count": 86,
   "id": "3c3f90be",
   "metadata": {},
   "outputs": [
    {
     "name": "stdout",
     "output_type": "stream",
     "text": [
      "To\n",
      "put that into perspective, if all the human beings in the world were to process that\n",
      "data, it would be roughly 300 MB for each of us every day to process.\n",
      "Simply put, the\n",
      "goal of NLP is to make machines understand our spoken and written languages.\n",
      "This\n",
      "example shows that NLP has become an integral part of human life.\n",
      "To\n",
      "make matters worse, each language has its own grammar, syntax, and vocabulary.\n",
      "Machine learning has become a key enabler for NLP, helping to\n",
      "accomplish the aforementioned tasks through machines.\n"
     ]
    }
   ],
   "source": [
    "for i in similarity_matrix:\n",
    "    for j in top_keys:\n",
    "        if sum(i)==j:\n",
    "            print(dict_sent[dict_sent1[j]])"
   ]
  }
 ],
 "metadata": {
  "kernelspec": {
   "display_name": "Python 3 (ipykernel)",
   "language": "python",
   "name": "python3"
  },
  "language_info": {
   "codemirror_mode": {
    "name": "ipython",
    "version": 3
   },
   "file_extension": ".py",
   "mimetype": "text/x-python",
   "name": "python",
   "nbconvert_exporter": "python",
   "pygments_lexer": "ipython3",
   "version": "3.9.7"
  }
 },
 "nbformat": 4,
 "nbformat_minor": 5
}
